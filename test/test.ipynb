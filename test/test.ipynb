{
 "cells": [
  {
   "cell_type": "markdown",
   "source": [
    "## 모든 셀을 순차적으로 실행하면 됩니다."
   ],
   "metadata": {
    "collapsed": false
   }
  },
  {
   "cell_type": "code",
   "execution_count": 1,
   "metadata": {
    "collapsed": true
   },
   "outputs": [
    {
     "name": "stdout",
     "output_type": "stream",
     "text": [
      "/Users/harveyj/Documents/DataSpell/BaseModel\n"
     ]
    }
   ],
   "source": [
    "import os\n",
    "os.chdir(os.path.abspath(os.path.join(os.path.abspath(''), os.pardir)))\n",
    "print(os.getcwd())"
   ]
  },
  {
   "cell_type": "code",
   "execution_count": 2,
   "outputs": [],
   "source": [
    "from util.detection import Detection"
   ],
   "metadata": {
    "collapsed": false
   }
  },
  {
   "cell_type": "code",
   "execution_count": 3,
   "outputs": [],
   "source": [
    "detect = Detection()"
   ],
   "metadata": {
    "collapsed": false
   }
  },
  {
   "cell_type": "code",
   "execution_count": 4,
   "outputs": [
    {
     "name": "stderr",
     "output_type": "stream",
     "text": [
      "Using cache found in /Users/harveyj/.cache/torch/hub/ultralytics_yolov5_master\n",
      "YOLOv5 🚀 2023-2-21 Python-3.8.16 torch-1.13.1 CPU\n",
      "\n",
      "Fusing layers... \n",
      "Model summary: 322 layers, 86180143 parameters, 0 gradients, 203.8 GFLOPs\n",
      "Adding AutoShape... \n"
     ]
    },
    {
     "name": "stdout",
     "output_type": "stream",
     "text": [
      "Result video saved at ./results/output1.mp4\n"
     ]
    }
   ],
   "source": [
    "video_path = './data/video/sample1.mp4' # 비디오는 sample1.mp4, sample2.mp4, sample3.mp4\n",
    "output_path = './results/output1.mp4'\n",
    "\n",
    "detect.get_video(video_path, output_path)"
   ],
   "metadata": {
    "collapsed": false
   }
  }
 ],
 "metadata": {
  "kernelspec": {
   "display_name": "Python 3",
   "language": "python",
   "name": "python3"
  },
  "language_info": {
   "codemirror_mode": {
    "name": "ipython",
    "version": 2
   },
   "file_extension": ".py",
   "mimetype": "text/x-python",
   "name": "python",
   "nbconvert_exporter": "python",
   "pygments_lexer": "ipython2",
   "version": "2.7.6"
  }
 },
 "nbformat": 4,
 "nbformat_minor": 0
}
